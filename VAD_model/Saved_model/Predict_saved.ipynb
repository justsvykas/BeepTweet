{
 "cells": [
  {
   "cell_type": "code",
   "execution_count": 28,
   "id": "a1739d94",
   "metadata": {},
   "outputs": [],
   "source": [
    "# import pickle\n",
    "# filename_V = 'finalized_model_V.sav'\n",
    "# filename_A = 'finalized_model_A.sav'\n",
    "# filename_D = 'finalized_model_D.sav'\n",
    "# model_V = pickle.load(open(filename_V, 'rb'))\n",
    "# model_A = pickle.load(open(filename_A, 'rb'))\n",
    "# model_D = pickle.load(open(filename_D, 'rb'))"
   ]
  },
  {
   "cell_type": "code",
   "execution_count": 31,
   "id": "9204db65",
   "metadata": {},
   "outputs": [],
   "source": [
    "# V_tweets = sparse.load_npz(\"proc_V.npz\")\n",
    "# A_tweets = sparse.load_npz(\"proc_A.npz\")\n",
    "# D_tweets = sparse.load_npz(\"proc_D.npz\")"
   ]
  },
  {
   "cell_type": "code",
   "execution_count": 32,
   "id": "97fd8a60",
   "metadata": {},
   "outputs": [],
   "source": [
    "# V_values = model_V.predict(V_tweets)\n",
    "# A_values = model_A.predict(A_tweets)\n",
    "# D_values = model_D.predict(D_tweets)"
   ]
  },
  {
   "cell_type": "code",
   "execution_count": 34,
   "id": "e1930004",
   "metadata": {},
   "outputs": [],
   "source": [
    "# # Normalize values between -1 and 1\n",
    "# V_values = [(float(i)-3)/2 for i in V_values]\n",
    "# A_values = [(float(i)-3)/2 for i in A_values]\n",
    "# D_values = [(float(i)-3)/2 for i in D_values]"
   ]
  },
  {
   "cell_type": "code",
   "execution_count": 51,
   "id": "09d4ca99",
   "metadata": {},
   "outputs": [],
   "source": [
    "# def quadrant(V_value, A_value):\n",
    "#     if V_value >= 0:\n",
    "#         if A_value >= 0:\n",
    "#             return 1\n",
    "#         else:\n",
    "#             return 2\n",
    "#     elif A_value >= 0:\n",
    "#         return 4\n",
    "#     else:\n",
    "#         return 3\n",
    "        "
   ]
  },
  {
   "cell_type": "code",
   "execution_count": 55,
   "id": "af578a17",
   "metadata": {},
   "outputs": [],
   "source": [
    "# quadrants= []\n",
    "# for i in range(len(V_values)):\n",
    "#     quadrants.append(quadrant(V_values[i], A_values[i]))\n",
    "    "
   ]
  },
  {
   "cell_type": "code",
   "execution_count": 60,
   "id": "ba9650ae",
   "metadata": {},
   "outputs": [],
   "source": [
    "# import pandas as pd\n",
    "# tweets = pd.read_csv(\"data_for_showcase.csv\", index_col=0 ,engine='python')\n",
    "# tweets= tweets.index.values.tolist()"
   ]
  },
  {
   "cell_type": "code",
   "execution_count": 61,
   "id": "a2a7f2f8",
   "metadata": {},
   "outputs": [],
   "source": [
    "# import pandas as pd\n",
    "# df = pd.DataFrame(list(zip(tweets, V_values, A_values, D_values, quadrants)),\n",
    "#                  columns = ['Tweet', 'Valence', 'Arousal', 'Dominance', 'Quadrants'])\n"
   ]
  },
  {
   "cell_type": "code",
   "execution_count": 112,
   "id": "4b613ad0",
   "metadata": {},
   "outputs": [],
   "source": [
    "# df.sample(1).to_pickle(\"sample2.pkl\")"
   ]
  },
  {
   "cell_type": "code",
   "execution_count": 113,
   "id": "0998d56f",
   "metadata": {},
   "outputs": [
    {
     "name": "stdout",
     "output_type": "stream",
     "text": [
      "                    Tweet   Valence   Arousal  Dominance  Quadrants\n",
      "533  feeling #ANGRY❌‼️👹💔💥 -0.057646 -0.057066    -0.0297          3\n"
     ]
    }
   ],
   "source": [
    "sample2 = pd.read_pickle(\"sample2.pkl\")\n",
    "print(sample2)"
   ]
  },
  {
   "cell_type": "code",
   "execution_count": 114,
   "id": "e96f942b",
   "metadata": {},
   "outputs": [
    {
     "name": "stdout",
     "output_type": "stream",
     "text": [
      "533    3\n",
      "Name: Quadrants, dtype: int64\n"
     ]
    }
   ],
   "source": [
    "num = sample2[\"Quadrants\"]\n",
    "print(num)"
   ]
  }
 ],
 "metadata": {
  "kernelspec": {
   "display_name": "Python 3 (ipykernel)",
   "language": "python",
   "name": "python3"
  },
  "language_info": {
   "codemirror_mode": {
    "name": "ipython",
    "version": 3
   },
   "file_extension": ".py",
   "mimetype": "text/x-python",
   "name": "python",
   "nbconvert_exporter": "python",
   "pygments_lexer": "ipython3",
   "version": "3.7.8"
  }
 },
 "nbformat": 4,
 "nbformat_minor": 5
}
