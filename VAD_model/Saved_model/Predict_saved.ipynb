{
 "cells": [
  {
   "cell_type": "code",
   "execution_count": 22,
   "id": "a1739d94",
   "metadata": {},
   "outputs": [],
   "source": [
    "import pickle\n",
    "filename_V = 'finalized_model_V.sav'\n",
    "filename_A = 'finalized_model_A.sav'\n",
    "filename_D = 'finalized_model_D.sav'\n",
    "model_V = pickle.load(open(filename_V, 'rb'))\n",
    "model_A = pickle.load(open(filename_A, 'rb'))\n",
    "model_D = pickle.load(open(filename_D, 'rb'))"
   ]
  },
  {
   "cell_type": "code",
   "execution_count": 23,
   "id": "9204db65",
   "metadata": {},
   "outputs": [],
   "source": [
    "from scipy import sparse\n",
    "V_tweets = sparse.load_npz(\"proc_V.npz\")\n",
    "A_tweets = sparse.load_npz(\"proc_A.npz\")\n",
    "D_tweets = sparse.load_npz(\"proc_D.npz\")"
   ]
  },
  {
   "cell_type": "code",
   "execution_count": 24,
   "id": "97fd8a60",
   "metadata": {},
   "outputs": [],
   "source": [
    "V_values = model_V.predict(V_tweets)\n",
    "A_values = model_A.predict(A_tweets)\n",
    "D_values = model_D.predict(D_tweets)"
   ]
  },
  {
   "cell_type": "code",
   "execution_count": 25,
   "id": "e1930004",
   "metadata": {},
   "outputs": [],
   "source": [
    "# Normalize values between -1 and 1\n",
    "V_values = [(float(i)-3)/2 for i in V_values]\n",
    "A_values = [(float(i)-3)/2 for i in A_values]\n",
    "D_values = [(float(i)-3)/2 for i in D_values]"
   ]
  },
  {
   "cell_type": "code",
   "execution_count": 26,
   "id": "09d4ca99",
   "metadata": {},
   "outputs": [],
   "source": [
    "def quadrant(V_value, A_value):\n",
    "    if V_value >= 0:\n",
    "        if A_value >= 0:\n",
    "            return 1\n",
    "        else:\n",
    "            return 2\n",
    "    elif A_value >= 0:\n",
    "        return 4\n",
    "    else:\n",
    "        return 3\n",
    "        "
   ]
  },
  {
   "cell_type": "code",
   "execution_count": 27,
   "id": "af578a17",
   "metadata": {},
   "outputs": [],
   "source": [
    "quadrants= []\n",
    "for i in range(len(V_values)):\n",
    "    quadrants.append(quadrant(V_values[i], A_values[i]))\n",
    "    "
   ]
  },
  {
   "cell_type": "code",
   "execution_count": 28,
   "id": "ba9650ae",
   "metadata": {},
   "outputs": [],
   "source": [
    "import pandas as pd\n",
    "tweets = pd.read_csv(\"data_for_showcase.csv\", index_col=0 ,engine='python')\n",
    "tweets= tweets.index.values.tolist()"
   ]
  },
  {
   "cell_type": "code",
   "execution_count": 29,
   "id": "a2a7f2f8",
   "metadata": {},
   "outputs": [],
   "source": [
    "import pandas as pd\n",
    "df = pd.DataFrame(list(zip(tweets, V_values, A_values, D_values, quadrants)),\n",
    "                 columns = ['Tweet', 'Valence', 'Arousal', 'Dominance', 'Quadrants'])\n"
   ]
  },
  {
   "cell_type": "code",
   "execution_count": 33,
   "id": "4b613ad0",
   "metadata": {},
   "outputs": [],
   "source": [
    "df.sample(5).to_pickle(\"sample2.pkl\")"
   ]
  },
  {
   "cell_type": "code",
   "execution_count": 34,
   "id": "0998d56f",
   "metadata": {},
   "outputs": [
    {
     "name": "stdout",
     "output_type": "stream",
     "text": [
      "                                                 Tweet   Valence   Arousal  \\\n",
      "477                     Simply trusting Jesus Christ🎶🎶  0.136013  0.106543   \n",
      "472  Bucks a good team for Vooch to get in early rh...  0.065730  0.023554   \n",
      "388  Been reading post of these leftist who thinks ... -0.063177  0.084329   \n",
      "175  On air now.  We got an email from a listener w...  0.117482  0.124610   \n",
      "214  You probably won’t realize my worth right now ... -0.246946  0.165194   \n",
      "\n",
      "     Dominance  Quadrants  \n",
      "477   0.075757          1  \n",
      "472   0.071976          1  \n",
      "388   0.029935          4  \n",
      "175   0.032183          1  \n",
      "214   0.119011          4  \n"
     ]
    }
   ],
   "source": [
    "sample2 = pd.read_pickle(\"sample2.pkl\")\n",
    "print(sample2)"
   ]
  }
 ],
 "metadata": {
  "kernelspec": {
   "display_name": "Python 3 (ipykernel)",
   "language": "python",
   "name": "python3"
  },
  "language_info": {
   "codemirror_mode": {
    "name": "ipython",
    "version": 3
   },
   "file_extension": ".py",
   "mimetype": "text/x-python",
   "name": "python",
   "nbconvert_exporter": "python",
   "pygments_lexer": "ipython3",
   "version": "3.7.8"
  }
 },
 "nbformat": 4,
 "nbformat_minor": 5
}
